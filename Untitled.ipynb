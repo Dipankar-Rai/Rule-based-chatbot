{
 "cells": [
  {
   "cell_type": "code",
   "execution_count": 1,
   "id": "3ea463a3",
   "metadata": {},
   "outputs": [],
   "source": [
    "import nltk"
   ]
  },
  {
   "cell_type": "code",
   "execution_count": 2,
   "id": "16acde40",
   "metadata": {},
   "outputs": [],
   "source": [
    "from nltk.chat.util import Chat, reflections"
   ]
  },
  {
   "cell_type": "code",
   "execution_count": 3,
   "id": "f225c7fe",
   "metadata": {},
   "outputs": [],
   "source": [
    "conver = [\n",
    "    (r'Hello|Hi',['Hello, How are you']),\n",
    "    (r'I am fine?',['Glad to know that, How can I help you ']),\n",
    "    (r'(.*) your name?', ['My name is chatbot']),\n",
    "    (r'(.*) age?',[\"I am just a chatbot (a machine), I don't have age.\"]),\n",
    "    (r'Thanks', ['You are welcome']),\n",
    "    (r'Exit',['It was great pleasure chatting with you. Please visit again'])\n",
    "]"
   ]
  },
  {
   "cell_type": "code",
   "execution_count": null,
   "id": "78e7ae20",
   "metadata": {},
   "outputs": [
    {
     "name": "stdout",
     "output_type": "stream",
     "text": [
      "Hi! I am a chatbot. I am here to help you\n",
      ">hello\n",
      "Hello, How are you\n",
      ">I am fine\n",
      "Glad to know that, How can I help you \n",
      ">What is your age?\n",
      "I am just a chatbot (a machine), I don't have age.\n"
     ]
    }
   ],
   "source": [
    "def chatbot():\n",
    "    print(\"Hi! I am a chatbot. I am here to help you\")\n",
    "    chat = Chat(conver, reflections)\n",
    "    chat.converse()\n",
    "    \n",
    "if __name__ == \"__main__\":\n",
    "    chatbot()"
   ]
  },
  {
   "cell_type": "code",
   "execution_count": null,
   "id": "c607667b",
   "metadata": {},
   "outputs": [],
   "source": []
  }
 ],
 "metadata": {
  "kernelspec": {
   "display_name": "Python 3 (ipykernel)",
   "language": "python",
   "name": "python3"
  },
  "language_info": {
   "codemirror_mode": {
    "name": "ipython",
    "version": 3
   },
   "file_extension": ".py",
   "mimetype": "text/x-python",
   "name": "python",
   "nbconvert_exporter": "python",
   "pygments_lexer": "ipython3",
   "version": "3.9.7"
  }
 },
 "nbformat": 4,
 "nbformat_minor": 5
}
